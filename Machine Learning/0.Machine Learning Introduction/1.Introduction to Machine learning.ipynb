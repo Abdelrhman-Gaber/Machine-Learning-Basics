{
 "cells": [
  {
   "cell_type": "markdown",
   "metadata": {},
   "source": [
    "# What is Machine learning ?"
   ]
  },
  {
   "cell_type": "markdown",
   "metadata": {},
   "source": [
    "**There is a general definition** :\n",
    "\n",
    " The field of study that gives computers the ability to learn without being explicitly\n",
    "programmed.\n",
    "**Arthur Samuel, 1959**"
   ]
  },
  {
   "cell_type": "markdown",
   "metadata": {},
   "source": [
    "**And a more engineering-oriented one:**\n",
    "\n",
    " A computer program is said to learn from experience E with respect to some task T and some\n",
    "performance measure P, if its performance on T, as measured by P, improves with experience E.\n",
    "**Tom Mitchell, 1997**"
   ]
  },
  {
   "cell_type": "markdown",
   "metadata": {},
   "source": [
    "**Learning systems are not directly programmed to solve a problem, instead\n",
    "develop own program based on**:\n",
    "* Examples of how they should behave\n",
    "* From trial-and-error experience trying to solve the problem"
   ]
  },
  {
   "cell_type": "markdown",
   "metadata": {},
   "source": [
    "## Traditional programming\n",
    "Data and program is run on the computer to produce the output."
   ]
  },
  {
   "cell_type": "markdown",
   "metadata": {},
   "source": [
    "![Traditional programming](1.png)"
   ]
  },
  {
   "cell_type": "markdown",
   "metadata": {
    "collapsed": true
   },
   "source": [
    "## Machine Learning\n",
    "Data and output is run on the computer to create a program. This program can be used in traditional programming."
   ]
  },
  {
   "cell_type": "markdown",
   "metadata": {},
   "source": [
    "![Machine Learning](2.png)"
   ]
  },
  {
   "cell_type": "markdown",
   "metadata": {},
   "source": [
    "* Instead of writing a program by hand, we collect examples that specify the correct output for\n",
    "a given input\n",
    "* A machine learning algorithm then takes these examples and produces a model (or program)\n",
    "that does the job.\n",
    "* If we do it right, the program works for new cases as well as the ones we trained it on."
   ]
  },
  {
   "cell_type": "markdown",
   "metadata": {},
   "source": [
    "# Machine Learning is used for :\n"
   ]
  },
  {
   "cell_type": "markdown",
   "metadata": {},
   "source": [
    "1. ** Problems for which existing solutions require a lot of hand-tuning or long lists of rules: one Machine\n",
    "Learning algorithm can often simplify code and perform better.**\n",
    "\n",
    "2. ** Complex problems for which there is no good solution at all using a traditional approach: the best\n",
    "Machine Learning techniques can find a solution.**\n",
    "\n",
    "3. ** Fluctuating environments: a Machine Learning system can adapt to new data.**\n",
    "\n",
    "4. ** Getting insights about complex problems and large amounts of data.**"
   ]
  },
  {
   "cell_type": "markdown",
   "metadata": {},
   "source": [
    "### The Goal of Machine Learning\n",
    "is to predict results based on incoming data"
   ]
  },
  {
   "cell_type": "markdown",
   "metadata": {},
   "source": [
    "# Three components of machine learning:"
   ]
  },
  {
   "cell_type": "markdown",
   "metadata": {},
   "source": [
    "## 1.Data\n"
   ]
  },
  {
   "cell_type": "markdown",
   "metadata": {},
   "source": [
    "Want to detect spam? Get samples of spam messages. Want to forecast stocks? Find the price history. Want to find out user preferences? Parse their activities on Facebook (no, Mark, stop collecting it, enough!). The more diverse the data, the better the result. Tens of thousands of rows is the bare minimum for the desperate ones."
   ]
  },
  {
   "cell_type": "markdown",
   "metadata": {},
   "source": [
    "There are two main ways to get Data :\n",
    "* Manual :  Manually collected data contains far fewer errors but takes more time to collect — that makes it more expensive in general.\n",
    "* Automatic : Automatic approach is cheaper — you're gathering everything you can find and hope for the best"
   ]
  },
  {
   "cell_type": "markdown",
   "metadata": {},
   "source": [
    "## 2.Features"
   ]
  },
  {
   "cell_type": "markdown",
   "metadata": {},
   "source": [
    "Also known as parameters or variables. Those could be car mileage, user's gender, stock price, word frequency in the text. In other words, these are the factors for a machine to look at."
   ]
  },
  {
   "cell_type": "markdown",
   "metadata": {},
   "source": [
    "## 3.Algorithms"
   ]
  },
  {
   "cell_type": "markdown",
   "metadata": {},
   "source": [
    "Most obvious part. Any problem can be solved differently. The method you choose affects the precision, performance, and size of the final model. There is one important nuance though: if the data is crappy, even the best algorithm won't help. Sometimes it's referred as \"garbage in – garbage out\". So don't pay too much attention to the percentage of accuracy, try to acquire more data first."
   ]
  },
  {
   "cell_type": "markdown",
   "metadata": {},
   "source": [
    "![componants](3.jpg)"
   ]
  },
  {
   "cell_type": "markdown",
   "metadata": {},
   "source": [
    "# Artificial intelligence vs Machine Learning"
   ]
  },
  {
   "cell_type": "markdown",
   "metadata": {},
   "source": [
    "![vs](4.jpg)"
   ]
  },
  {
   "cell_type": "markdown",
   "metadata": {},
   "source": [
    "**Artificial intelligence** is the name of a whole knowledge field, similar to biology or chemistry.\n",
    "\n",
    "**Machine Learning** is a part of artificial intelligence. An important part, but not the only one.\n",
    "\n",
    "**Neural Networks** are one of machine learning types. A popular one, but there are other good guys in the class.\n",
    "\n",
    "**Deep Learning** is a modern method of building, training, and using neural networks. Basically, it's a new architecture."
   ]
  },
  {
   "cell_type": "markdown",
   "metadata": {},
   "source": [
    "# Map of the machine learning"
   ]
  },
  {
   "cell_type": "markdown",
   "metadata": {},
   "source": [
    "![map](5.jpg)"
   ]
  },
  {
   "cell_type": "markdown",
   "metadata": {},
   "source": [
    "### Note :\n",
    "there is never a sole way to solve a problem in the machine learning world. There are always several algorithms that fit, and you have to choose which one fits better. Everything can be solved with a neural network, of course, but who will pay for all these GeForces?"
   ]
  },
  {
   "cell_type": "markdown",
   "metadata": {},
   "source": [
    "# Types Of Learning \n",
    "there are Four types of learning :\n",
    "* **Supervised learning**\n",
    "* **Unsupervised learning**\n",
    "* **Semi-supervised learning**\n",
    "* **Reinforcement learning**"
   ]
  },
  {
   "cell_type": "markdown",
   "metadata": {},
   "source": [
    "## Supervised Learning:\n",
    "(also called inductive learning) Training data includes desired outputs.  This is spam this is not, learning is supervised."
   ]
  },
  {
   "cell_type": "markdown",
   "metadata": {},
   "source": [
    "### Two types of Supervised Learning :-\n",
    "* **Regression**: Estimate continuous values (Real valued output)\n",
    "* **Classification** : Identify a unique class (Discrete values, Boolean or Categories)"
   ]
  },
  {
   "cell_type": "markdown",
   "metadata": {},
   "source": [
    "#### 1. Regression :\n",
    "Regression models a target prediction value based on independent variables. It is mostly used for finding out the relationship between variables and forecasting. Regression can be used to estimate/ predict continuous values (Real valued output)."
   ]
  },
  {
   "cell_type": "markdown",
   "metadata": {},
   "source": [
    "Used For:\n",
    "* Stock price forecasts\n",
    "* Demand and sales volume analysis\n",
    "* Medical diagnosis\n",
    "* Any number-time correlations"
   ]
  },
  {
   "cell_type": "markdown",
   "metadata": {},
   "source": [
    "#### 2. Classification :\n",
    "Classification means to group the output into a class. If the data set is discrete or categorical then it is a classification problem.\n",
    "For example : Given data about the sizes of houses in the real estate market, making our output about whether the house “sells for more or less than the asking price” i.e. Classifying houses into two discrete categories."
   ]
  },
  {
   "cell_type": "markdown",
   "metadata": {},
   "source": [
    "Used For:\n",
    "* Spam filtering\n",
    "* Language detection\n",
    "* A search of similar documents\n",
    "* Sentiment analysis\n",
    "* Recognition of handwritten characters and numbers\n",
    "* Fraud detection"
   ]
  },
  {
   "cell_type": "markdown",
   "metadata": {},
   "source": [
    "## Unsupervised Learning :\n",
    " Training data does not include desired outputs. Example is clustering. It is hard to tell what is good learning and what is not."
   ]
  },
  {
   "cell_type": "markdown",
   "metadata": {},
   "source": [
    "#### Clustering :\n",
    "is the task of grouping a set of objects in such a way that objects in the same group (called a cluster) are more similar (in some sense) to each other than to those in other groups (clusters).\n",
    "For example : Take a collection of 1,000,000 different genes, and find a way to automatically group these genes into groups that are somehow similar or related by different variables, such as lifespan, location, roles, and so on."
   ]
  },
  {
   "cell_type": "markdown",
   "metadata": {},
   "source": [
    "Used For:\n",
    "* For market segmentation (types of customers, loyalty)\n",
    "* To merge close points on a map\n",
    "* For image compression\n",
    "* To analyze and label new data\n",
    "* To detect abnormal behavior"
   ]
  },
  {
   "cell_type": "markdown",
   "metadata": {},
   "source": [
    "## Semi-supervised learning\n",
    "* is an approach to machine learning that combines a small amount of labeled data with a large amount of unlabeled data during training. Semi-supervised learning falls between unsupervised learning (with no labeled training data) and supervised learning (with only labeled training data).\n",
    "* Training data includes a few desired outputs."
   ]
  },
  {
   "cell_type": "markdown",
   "metadata": {},
   "source": [
    "## Reinforcement learning\n",
    " Reinforcement Learning is about taking suitable actions to maximize reward in a particular situation. It is employed by various software and machines to find the best possible behavior or path to take in a specific situation."
   ]
  },
  {
   "cell_type": "markdown",
   "metadata": {},
   "source": [
    "Used For:\n",
    "* Self-driving cars\n",
    "* Robot vacuums\n",
    "* Games\n",
    "* Automating trading\n",
    "* Enterprise resource management"
   ]
  },
  {
   "cell_type": "markdown",
   "metadata": {},
   "source": [
    "# Applications of Machine Learning:\n",
    "* Image Recognition\n",
    "* Sentiment Analysis\n",
    "* News Classification\n",
    "* Video Surveillance\n",
    "* Email Classification and Spam Filtering\n",
    "* Speech Recognition\n",
    "* Online Fraud Detection\n",
    "* Virtual Personal Assistant\n",
    "* Author Identification\n",
    "* Prediction\n",
    "* Services of Social Media\n",
    "* Medical Services\n",
    "* Recommendation for Products and Services\n",
    "* Online Customer Supports\n",
    "* Age/Gender Identification\n",
    "* Information Retrieval\n",
    "* Language Identification\n",
    "* Robot Control\n",
    "* Search Engine Result Refining"
   ]
  },
  {
   "cell_type": "code",
   "execution_count": null,
   "metadata": {
    "collapsed": true
   },
   "outputs": [],
   "source": []
  }
 ],
 "metadata": {
  "kernelspec": {
   "display_name": "Python 3",
   "language": "python",
   "name": "python3"
  },
  "language_info": {
   "codemirror_mode": {
    "name": "ipython",
    "version": 3
   },
   "file_extension": ".py",
   "mimetype": "text/x-python",
   "name": "python",
   "nbconvert_exporter": "python",
   "pygments_lexer": "ipython3",
   "version": "3.6.3"
  }
 },
 "nbformat": 4,
 "nbformat_minor": 2
}
